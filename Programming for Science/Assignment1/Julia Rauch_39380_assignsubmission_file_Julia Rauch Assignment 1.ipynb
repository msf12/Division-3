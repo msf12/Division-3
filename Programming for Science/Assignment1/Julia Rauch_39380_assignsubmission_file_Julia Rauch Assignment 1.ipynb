{
 "cells": [
  {
   "cell_type": "code",
   "execution_count": null,
   "metadata": {
    "collapsed": false
   },
   "outputs": [],
   "source": [
    "number = float(input(\"Type in a number: \"))\n",
    "integer = int(input(\"Type in an integer: \"))\n",
    "text = input(\"Type in a string: \")\n",
    "print(\"number =\", number)\n",
    "print(\"number is a\", type(number))\n",
    "print(\"number * 80 =\", number * 80)\n",
    "print(\"integer =\", integer)\n",
    "print(\"integer * 90 =\", integer * 90)\n",
    "print(\"text =\", text)\n",
    "print(\"text is a\", type(text))\n",
    "print(\"text * 150 =\", text * 150)"
   ]
  }
 ],
 "metadata": {
  "kernelspec": {
   "display_name": "Python 3",
   "language": "python",
   "name": "python3"
  },
  "language_info": {
   "codemirror_mode": {
    "name": "ipython",
    "version": 3
   },
   "file_extension": ".py",
   "mimetype": "text/x-python",
   "name": "python",
   "nbconvert_exporter": "python",
   "pygments_lexer": "ipython3",
   "version": "3.4.3"
  }
 },
 "nbformat": 4,
 "nbformat_minor": 0
}
