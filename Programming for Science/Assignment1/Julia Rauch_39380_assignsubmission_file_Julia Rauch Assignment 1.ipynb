{
 "cells": [
  {
   "cell_type": "code",
   "execution_count": 2,
   "metadata": {
    "collapsed": false
   },
   "outputs": [
    {
     "name": "stdout",
     "output_type": "stream",
     "text": [
      "Type in a number: 5.5\n",
      "Type in an integer: 5\n",
      "Type in a string: 5.5\n",
      "number = 5.5\n",
      "number is a <class 'float'>\n",
      "number * 80 = 440.0\n",
      "integer = 5\n",
      "integer * 90 = 450\n",
      "text = 5.5\n",
      "text is a <class 'str'>\n",
      "text * 150 = 5.55.55.55.55.55.55.55.55.55.55.55.55.55.55.55.55.55.55.55.55.55.55.55.55.55.55.55.55.55.55.55.55.55.55.55.55.55.55.55.55.55.55.55.55.55.55.55.55.55.55.55.55.55.55.55.55.55.55.55.55.55.55.55.55.55.55.55.55.55.55.55.55.55.55.55.55.55.55.55.55.55.55.55.55.55.55.55.55.55.55.55.55.55.55.55.55.55.55.55.55.55.55.55.55.55.55.55.55.55.55.55.55.55.55.55.55.55.55.55.55.55.55.55.55.55.55.55.55.55.55.55.55.55.55.55.55.55.55.55.55.55.55.55.55.55.55.55.55.55.5\n"
     ]
    }
   ],
   "source": [
    "number = float(input(\"Type in a number: \"))\n",
    "integer = int(input(\"Type in an integer: \"))\n",
    "text = input(\"Type in a string: \")\n",
    "print(\"number =\", number)\n",
    "print(\"number is a\", type(number))\n",
    "print(\"number * 80 =\", number * 80)\n",
    "print(\"integer =\", integer)\n",
    "print(\"integer * 90 =\", integer * 90)\n",
    "print(\"text =\", text)\n",
    "print(\"text is a\", type(text))\n",
    "print(\"text * 150 =\", text * 150)"
   ]
  },
  {
   "cell_type": "code",
   "execution_count": null,
   "metadata": {
    "collapsed": true
   },
   "outputs": [],
   "source": []
  }
 ],
 "metadata": {
  "kernelspec": {
   "display_name": "Python 3",
   "language": "python",
   "name": "python3"
  },
  "language_info": {
   "codemirror_mode": {
    "name": "ipython",
    "version": 3
   },
   "file_extension": ".py",
   "mimetype": "text/x-python",
   "name": "python",
   "nbconvert_exporter": "python",
   "pygments_lexer": "ipython3",
   "version": "3.4.3"
  }
 },
 "nbformat": 4,
 "nbformat_minor": 0
}
