{
 "cells": [
  {
   "cell_type": "code",
   "execution_count": 1,
   "metadata": {
    "collapsed": true
   },
   "outputs": [],
   "source": [
    "names = 'sara'"
   ]
  },
  {
   "cell_type": "code",
   "execution_count": 5,
   "metadata": {
    "collapsed": false
   },
   "outputs": [
    {
     "name": "stdout",
     "output_type": "stream",
     "text": [
      "What is your guess?\n",
      "dan\n",
      "Sorry, try again.\n",
      "What is your guess?\n",
      "greg\n",
      "Sorry, try again.\n",
      "What is your guess?\n",
      "\n",
      "Sorry, try again.\n"
     ]
    }
   ],
   "source": [
    "if names == input('What is your guess?\\n'):\n",
    "    print('You got it!')\n",
    "else:\n",
    "    print('Sorry, try again.')\n",
    "while True:\n",
    "    names == input('What is your guess?\\n')\n",
    "    print('Sorry, try again.')\n",
    "    \n",
    "    if names == input('What is your guess?\\n'):\n",
    "        print('You got it!')\n",
    "    else:\n",
    "        print('Sorry, try again.')\n",
    "        break"
   ]
  },
  {
   "cell_type": "code",
   "execution_count": 6,
   "metadata": {
    "collapsed": false
   },
   "outputs": [
    {
     "name": "stdout",
     "output_type": "stream",
     "text": [
      "What is your guess?\n",
      "dan\n",
      "Sorry, try again.\n",
      "What is your guess?\n",
      "jim\n",
      "Sorry, try again.\n",
      "What is your guess?\n",
      "sara\n",
      "You got it!\n",
      "What is your guess?\n",
      "\n",
      "Sorry, try again.\n",
      "What is your guess?\n",
      "\n",
      "Sorry, try again.\n"
     ]
    }
   ],
   "source": [
    "if names == input('What is your guess?\\n'):\n",
    "    print('You got it!')\n",
    "else:\n",
    "    print('Sorry, try again.')\n",
    "while True:\n",
    "    names == input('What is your guess?\\n')\n",
    "    print('Sorry, try again.')\n",
    "    \n",
    "    if names == input('What is your guess?\\n'):\n",
    "        print('You got it!')\n",
    "    else:\n",
    "        print('Sorry, try again.')\n",
    "        break"
   ]
  },
  {
   "cell_type": "code",
   "execution_count": 9,
   "metadata": {
    "collapsed": false
   },
   "outputs": [
    {
     "name": "stdout",
     "output_type": "stream",
     "text": [
      "What is your guess?\n",
      "dan\n",
      "Sorry, try again.\n",
      "What is your guess?\n",
      "jim\n",
      "What is your guess?\n",
      "jj\n",
      "Sorry, try again.\n",
      "What is your guess?\n",
      "sara\n",
      "You got it!\n"
     ]
    }
   ],
   "source": [
    "#got rid of else, and now the loop ends when correct answer is given. \n",
    "while True:\n",
    "    names == input('What is your guess?\\n')\n",
    "    print('Sorry, try again.')\n",
    "    \n",
    "    if names == input('What is your guess?\\n'):\n",
    "        print('You got it!')\n",
    "        break"
   ]
  },
  {
   "cell_type": "code",
   "execution_count": 10,
   "metadata": {
    "collapsed": false
   },
   "outputs": [
    {
     "name": "stdout",
     "output_type": "stream",
     "text": [
      "What is your guess?\n",
      "dan\n",
      "Sorry, try again.\n",
      "What is your guess?\n",
      "jim\n",
      "Sorry, try again.\n",
      "What is your guess?\n",
      "jj\n",
      "What is your guess?\n",
      "sara\n",
      "Sorry, try again.\n",
      "What is your guess?\n",
      "sara\n",
      "You got it!\n"
     ]
    }
   ],
   "source": [
    "if names == input('What is your guess?\\n'):\n",
    "    print('You got it!')\n",
    "else:\n",
    "    print('Sorry, try again.')\n",
    "while True:\n",
    "    names == input('What is your guess?\\n')\n",
    "    print('Sorry, try again.')\n",
    "    \n",
    "    if names == input('What is your guess?\\n'):\n",
    "        print('You got it!')\n",
    "        break\n",
    "#w/if else first it doesn't recognize when the correct answer is submitted the first time."
   ]
  },
  {
   "cell_type": "code",
   "execution_count": 11,
   "metadata": {
    "collapsed": false
   },
   "outputs": [
    {
     "name": "stdout",
     "output_type": "stream",
     "text": [
      "What is your guess?\n",
      "dan\n",
      "Sorry, try again.\n",
      "What is your guess?\n",
      "laura\n",
      "What is your guess?\n",
      "dannie\n",
      "Sorry, try again.\n",
      "What is your guess?\n",
      "sara\n",
      "You got it!\n"
     ]
    }
   ],
   "source": [
    "while True:\n",
    "    names == input('What is your guess?\\n')\n",
    "    print('Sorry, try again.')\n",
    "    \n",
    "    if names == input('What is your guess?\\n'):\n",
    "        print('You got it!')\n",
    "        break\n",
    "#this one ends loop and repeats correct strings"
   ]
  },
  {
   "cell_type": "code",
   "execution_count": null,
   "metadata": {
    "collapsed": true
   },
   "outputs": [],
   "source": []
  }
 ],
 "metadata": {
  "kernelspec": {
   "display_name": "Python 3",
   "language": "python",
   "name": "python3"
  },
  "language_info": {
   "codemirror_mode": {
    "name": "ipython",
    "version": 3
   },
   "file_extension": ".py",
   "mimetype": "text/x-python",
   "name": "python",
   "nbconvert_exporter": "python",
   "pygments_lexer": "ipython3",
   "version": "3.4.3"
  }
 },
 "nbformat": 4,
 "nbformat_minor": 0
}
