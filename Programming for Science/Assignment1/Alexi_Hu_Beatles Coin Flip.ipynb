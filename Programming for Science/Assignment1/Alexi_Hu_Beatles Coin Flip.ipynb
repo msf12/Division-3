{
 "cells": [
  {
   "cell_type": "code",
   "execution_count": null,
   "metadata": {
    "collapsed": true
   },
   "outputs": [],
   "source": []
  },
  {
   "cell_type": "code",
   "execution_count": 1,
   "metadata": {
    "collapsed": false,
    "scrolled": false
   },
   "outputs": [
    {
     "name": "stdout",
     "output_type": "stream",
     "text": [
      "Flip a coin? Enter 'yes' or 'no'.\n",
      "nO\n",
      "Hey, buddy, like, can you follow directions?\n",
      "\n",
      "Flip a coin? Enter 'yes' or 'no'.\n",
      "No\n",
      "Sorry, I don't understand capitalization.\n",
      "\n",
      "Flip a coin? Enter 'yes' or 'no'.\n",
      "yes\n",
      "You flipped tails, which means:\n",
      "\n",
      "The Beatles were the pinnacle of music.\n",
      "Ringo was the chosen one.\n",
      "\n",
      "Your name is: George the Orange Rind-Lover.\n",
      "Hey, buddy, like, can you follow directions?\n",
      "\n",
      "Flip a coin? Enter 'yes' or 'no'.\n",
      "no\n",
      "Okay, well I'll flip the coin anyway.\n",
      "\n",
      "You flipped heads, which means:\n",
      "\n",
      "Yoko has left the building.\n",
      "\n",
      "Paul use to be a cannibal.\n",
      "\n",
      "You say goodbye\n",
      "And I say hello.\n",
      "\n",
      "Your name is: George the Orange Rind-Lover.\n"
     ]
    }
   ],
   "source": [
    "import random \n",
    "#variables\n",
    "x = \"You say goodbye\"\n",
    "y = \"And I say hello.\"\n",
    "z = \"Ringo was the chosen one.\"\n",
    "i = \"Paul use to be a cannibal.\"\n",
    "Beatles = ['John the SAT Proctor', 'Paul the Nihilist', 'George the Orange Rind-Lover', 'Ringo the Chosen One'] #List of different band members.\n",
    "\n",
    "#function 1\n",
    "def Play():\n",
    "    onemillion = 1 #assigns the number one to onemillion\n",
    "    \n",
    "    while onemillion > 0: \n",
    "        coin_flip = random.randint(0,1) #as long as onemillion is greater than 0, generate random integer within range 0 and 1. \n",
    "    \n",
    "        if (coin_flip == 1): #if random integer generated is 1:\n",
    "            print ('You flipped tails, which means:' + '\\n') #\\n starts a new line.\n",
    "            print ('The Beatles were the pinnacle of music.')\n",
    "            print (z + '\\n')\n",
    "        \n",
    "        if (coin_flip == 0): \n",
    "            print ('You flipped heads, which means:' + '\\n')\n",
    "            print ('Yoko has left the building.' + '\\n')\n",
    "            print (i + '\\n')\n",
    "            print (x)\n",
    "            print (y + '\\n')\n",
    "        \n",
    "        onemillion -=1 #onemillion decreases in value with each play through. \n",
    "\n",
    "\n",
    "    print ('Your name is:' + ' ' + Beatles[random.randint(0,3)] + '.')  #calls a random string from the list \"Beatles\".\n",
    "    \n",
    "#function 2    \n",
    "def CoinFlip():\n",
    "    do_not_understand = {1:\"Yes\", 2:\"No\", 3:\"YEs\", 4:\"YES\", 5:\"NO\", 6:\"YeS\"} #dictionary used to store strings with assigned integer values.\n",
    "    \n",
    "    response = input(\"Flip a coin? Enter 'yes' or 'no'.\" + '\\n') #poses a question while allowing user to give input. Input defined as \"response\".\n",
    "    \n",
    "    for phrase in do_not_understand: #for each phrase in dictionary:\n",
    "        if response == do_not_understand[phrase]: #if user input is the same as a dictionary phrase:\n",
    "            print(\"Sorry, I don't understand capitalization.\" + '\\n')\n",
    "            CoinFlip() #calls function 2. Restarts.\n",
    "\n",
    "    if response == \"no\":\n",
    "        print (\"Okay, well I'll flip the coin anyway.\" + '\\n')\n",
    "        Play() #calls function 1. \n",
    "        \n",
    "    elif response != \"yes\": #if user input is not \"yes\":\n",
    "        print (\"Hey, buddy, like, can you follow directions?\" + '\\n')\n",
    "        CoinFlip() #calls function 2. Restarts.\n",
    "    \n",
    "    if response == \"yes\":\n",
    "        Play() #calls function 1. \n",
    "        \n",
    "    \n",
    "CoinFlip() #call function 2.\n",
    "\n",
    "# If one recieves the \"Sorry, I don't understand capitalization.\" response, the second iteration of CoinFlip always ends with \"Hey, buddy, like, can you follow directions?\".\n",
    "# I think it probably has something to do with the input stored in response."
   ]
  },
  {
   "cell_type": "code",
   "execution_count": null,
   "metadata": {
    "collapsed": true
   },
   "outputs": [],
   "source": []
  },
  {
   "cell_type": "code",
   "execution_count": null,
   "metadata": {
    "collapsed": true
   },
   "outputs": [],
   "source": []
  },
  {
   "cell_type": "code",
   "execution_count": null,
   "metadata": {
    "collapsed": true
   },
   "outputs": [],
   "source": []
  },
  {
   "cell_type": "code",
   "execution_count": null,
   "metadata": {
    "collapsed": true
   },
   "outputs": [],
   "source": []
  }
 ],
 "metadata": {
  "kernelspec": {
   "display_name": "Python 3",
   "language": "python",
   "name": "python3"
  },
  "language_info": {
   "codemirror_mode": {
    "name": "ipython",
    "version": 3
   },
   "file_extension": ".py",
   "mimetype": "text/x-python",
   "name": "python",
   "nbconvert_exporter": "python",
   "pygments_lexer": "ipython3",
   "version": "3.4.3"
  }
 },
 "nbformat": 4,
 "nbformat_minor": 0
}
