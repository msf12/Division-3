{
 "cells": [
  {
   "cell_type": "code",
   "execution_count": 3,
   "metadata": {
    "collapsed": true
   },
   "outputs": [],
   "source": [
    "import random"
   ]
  },
  {
   "cell_type": "code",
   "execution_count": 4,
   "metadata": {
    "collapsed": true
   },
   "outputs": [],
   "source": [
    "def frame():\n",
    "    user = input(\"Would you like to play a game?\")\n",
    "    if user.lower() in ['y','yes']:\n",
    "        print(\"I have chosen a number composed of four digits. Your job is to guess all four digits in their correct positions. After each guess I will tell you how many digits you got right, but not which ones. Good luck!\")\n",
    "        main(makenum())\n",
    "    else:\n",
    "        print(\"Sorry, that's not a valid option, try again.\")\n",
    "        frame()"
   ]
  },
  {
   "cell_type": "code",
   "execution_count": 5,
   "metadata": {
    "collapsed": true
   },
   "outputs": [],
   "source": [
    "def makenum():\n",
    "    num = []\n",
    "    for i in range(4):\n",
    "        num.append(random.randrange(1,10))\n",
    "    return num"
   ]
  },
  {
   "cell_type": "code",
   "execution_count": 6,
   "metadata": {
    "collapsed": true
   },
   "outputs": [],
   "source": [
    "def main(num):\n",
    "    print(num)\n",
    "    user = input(\"Your guess?\")\n",
    "    if len(user) > 4 or len(user) < 4:\n",
    "        print(\"Nope!\")\n",
    "        main(num)\n",
    "    else:\n",
    "        count = 0\n",
    "        for i in range(4):\n",
    "            if int(user[i]) == num[i]:\n",
    "                count += 1\n",
    "        if count == 4:\n",
    "            print(\"Congratulations, you won!\")\n",
    "            user2 = input(\"Play again?\")\n",
    "            if user2.lower() in ['y','yes']:\n",
    "                frame()\n",
    "            else:\n",
    "                return\n",
    "        else:\n",
    "            print(\"You got \" + str(count) + \" digits right.\")\n",
    "            main(num)\n",
    "        \n",
    "    "
   ]
  },
  {
   "cell_type": "code",
   "execution_count": 7,
   "metadata": {
    "collapsed": false
   },
   "outputs": [
    {
     "name": "stdout",
     "output_type": "stream",
     "text": [
      "Would you like to play a game?yes\n",
      "I have chosen a number composed of four digits. Your job is to guess all four digits in their correct positions. After each guess I will tell you how many digits you got right, but not which ones. Good luck!\n",
      "[7, 7, 7, 4]\n",
      "Your guess?7774\n",
      "Congratulations, you won!\n",
      "Play again?no\n"
     ]
    }
   ],
   "source": [
    "frame()"
   ]
  },
  {
   "cell_type": "code",
   "execution_count": null,
   "metadata": {
    "collapsed": true
   },
   "outputs": [],
   "source": []
  },
  {
   "cell_type": "code",
   "execution_count": null,
   "metadata": {
    "collapsed": true
   },
   "outputs": [],
   "source": []
  }
 ],
 "metadata": {
  "kernelspec": {
   "display_name": "Python 3",
   "language": "python",
   "name": "python3"
  },
  "language_info": {
   "codemirror_mode": {
    "name": "ipython",
    "version": 3
   },
   "file_extension": ".py",
   "mimetype": "text/x-python",
   "name": "python",
   "nbconvert_exporter": "python",
   "pygments_lexer": "ipython3",
   "version": "3.4.3"
  }
 },
 "nbformat": 4,
 "nbformat_minor": 0
}
