{
 "cells": [
  {
   "cell_type": "code",
   "execution_count": 12,
   "metadata": {
    "collapsed": false
   },
   "outputs": [
    {
     "name": "stdout",
     "output_type": "stream",
     "text": [
      "This is a Myers-Briggs personality test and\n",
      " it will tell you everything you need to know about yourself\n",
      "Let us begin\n",
      "Here is the first question:\n",
      "Please input yes or no\n",
      "You enjoy having a crap-ton of friends around you all the time: no\n",
      "Good work. 3 more questions to go.\n",
      "Please input yes or no\n",
      "You say: everything is relative: pretty often, both ironically and serisously: yes\n",
      "Nicely done. Almost there \n",
      "Please input yes or no\n",
      "You don't plan things. Things just happen to you: yes\n",
      "Here we are. Last question\n",
      "Please input yes or no\n",
      "As a preferance, you like to leave decisions open rather than have matters settled: yes\n",
      "___________________________________________\n",
      "Your type is: INFP\n",
      "\n",
      "You love thinking and knowing what other people think. Cuz you love sharing your creative thoughts with them and hearing their unique ideas. I really think I might puke. You disgust me.\n"
     ]
    }
   ],
   "source": [
    "##Matthew Fullmer\n",
    "##9/24/15\n",
    "##Basic Myers-Briggs test w somewhat snarky comments at the end \n",
    "\n",
    "MBtype = \"\" #We'll build this up through the code to get the personality type\n",
    "print(\"This is a Myers-Briggs personality test and\\n it will tell you everything you need to know about yourself\")\n",
    "print(\"Let us begin\\n\" + \"Here is the first question:\")\n",
    "\n",
    "q1 = input(\"Please input yes or no\\n\"+\"You enjoy having a crap-ton of friends around you all the time: \")\n",
    "if (q1==\"yes\" or q1 == \"y\" or q1 == \"YES\" or q1 == \"Yes\" ):\n",
    "    MBtype = MBtype + \"E\" #For Extraversion\n",
    "else:\n",
    "    MBtype = MBtype + \"I\" #For Introversion\n",
    "    \n",
    "q2 = input(\"Good work. 3 more questions to go.\\n\" + \"Please input yes or no\\n\" + \"You say: everything is relative: pretty often, both ironically and serisously: \")\n",
    "if (q2 == \"yes\" or q2 == \"YES\" or q2 == \"y\" or q2 == \"Yes\"):\n",
    "    MBtype = MBtype + \"N\" #For iNtuition\n",
    "else:\n",
    "    MBtype = MBtype + \"S\" #For Sensing\n",
    "\n",
    "q3 = input(\"Nicely done. Almost there \\n\" + \"Please input yes or no\\n\" + \"You don't plan things. Things just happen to you: \")\n",
    "if (q3 == \"yes\" or q3 == \"YES\" or q3 == \"y\" or q3 == \"Yes\"):\n",
    "    MBtype = MBtype + \"F\" #For Feeling\n",
    "else:\n",
    "    MBtype = MBtype + \"T\" #For Thinking\n",
    "    \n",
    "q4 = input(\"Here we are. Last question\\n\" + \"Please input yes or no\\n\" + \"As a preferance, you like to leave decisions open rather than have matters settled: \")\n",
    "if (q4 == \"yes\" or q4 == \"YES\" or q4 == \"y\" or q4 == \"Yes\"):\n",
    "    MBtype = MBtype + \"P\" #For Perceiving\n",
    "else:\n",
    "    MBtype = MBtype + \"J\" #For Judging\n",
    "\n",
    "print(\"___________________________________________\\n\" + \"Your type is: \" + MBtype)\n",
    "\n",
    "#Compare result and dispense commentary\n",
    "if(MBtype == \"ISTJ\"):\n",
    "    print(\"\\nYou're some kinda rock. So stable. So organized. So responsible. Just wow. Or. Or, you're just shit at taking this serious test seriously.\")\n",
    "elif(MBtype == \"ISFJ\"):\n",
    "    print(\"\\nYou're like a tree or something with your big, sympathetic, and practical attitude giving and throwing shade onto everyone.\")\n",
    "elif(MBtype == \"INFJ\"):\n",
    "    print(\"\\nEveryone thinks you're so cool and inspiring, but you don't feel that way about yourself, you quietly intense and empathetic so and so.\")\n",
    "elif(MBtype == \"INTJ\"):\n",
    "    print(\"\\nINFJ's more critical cousin, you're decisive and independent and call people out on their own idiocy. Way to go.\")\n",
    "elif(MBtype == \"ISTP\"):\n",
    "    print(\"\\nYou work with your hands because that's what you understand. People will often make you uncomfortable what with their emotions and other such sappy things.\")\n",
    "elif(MBtype == \"ISFP\"):\n",
    "    print(\"\\nGod. You're like some kinda genius artist or something, all compassionate and spontaneous. You're a joy in action, jeez. Leave something for the rest of us.\")\n",
    "elif(MBtype == \"INFP\"):\n",
    "    print(\"\\nYou love thinking and knowing what other people think. Cuz you love sharing your creative thoughts with them and hearing their unique ideas. I really think I might puke. You disgust me.\")\n",
    "elif(MBtype == \"INTP\"):\n",
    "    print(\"\\nYou're a thinker, yes you are. You can see the forest and the trees and seek deeper meaning in both. People will often make about as much sense to you as the fact that there is no ham in hamburger.\")\n",
    "elif(MBtype == \"ESTP\"):\n",
    "    print(\"\\nAn adventurer to the core. Exploring is your breakfast, lunch, and dinner. Spontaneity is your dessert. You can be pretty obtuse and that's on a good day.\")\n",
    "elif(MBtype == \"ESFP\"):\n",
    "    print(\"\\nYou are everyone's default friend. Fun-loving, relaxed, open to new experiences, just all the things. Sometimes you feel as though you are defined by your friends, but you're pretty capable all around.\")\n",
    "elif(MBtype == \"ENFP\"):\n",
    "    print(\"\\nYou are looking straight into the bright sun that is the future without sunglasses on, playing classic tunes and humming Fool on the Hill. Jeez, stop staring. You'll go blind.\")\n",
    "elif(MBtype == \"ENTP\"):\n",
    "    print(\"\\nWhat a strange novelty you are. An intense inner life coupled with a powerful external presence, people know you, even if you've never met them.\")\n",
    "elif(MBtype == \"ESTJ\"):\n",
    "    print(\"\\nYou're an organizer, fact-minded, and imbued with so much common sense other people often perplex you with their decisions. You often think and occassionaly eat as well.\")\n",
    "elif(MBtype == \"ESFJ\"):\n",
    "    print(\"\\nYou're a loyal people person. Some might organize events and times, but you organize people, rallying them to do whatever. Mostly to hang out with you because the thought of being alone is truly terrifying.\")\n",
    "elif(MBtype == \"ENFJ\"):\n",
    "    print(\"\\nYou're a goddamn unicorn. Enjoy your ridiculously perfect existence while it lasts.\")\n",
    "elif(MBtype == \"ENTJ\"):\n",
    "    print(\"\\nA visionary, assertive, and an initiator. That's you, that's who you are. Deal with it.\")\n"
   ]
  },
  {
   "cell_type": "code",
   "execution_count": null,
   "metadata": {
    "collapsed": true
   },
   "outputs": [],
   "source": []
  }
 ],
 "metadata": {
  "kernelspec": {
   "display_name": "Python 3",
   "language": "python",
   "name": "python3"
  },
  "language_info": {
   "codemirror_mode": {
    "name": "ipython",
    "version": 3
   },
   "file_extension": ".py",
   "mimetype": "text/x-python",
   "name": "python",
   "nbconvert_exporter": "python",
   "pygments_lexer": "ipython3",
   "version": "3.4.3"
  }
 },
 "nbformat": 4,
 "nbformat_minor": 0
}
