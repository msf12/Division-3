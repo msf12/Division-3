{
 "cells": [
  {
   "cell_type": "code",
   "execution_count": 1,
   "metadata": {
    "collapsed": true
   },
   "outputs": [],
   "source": [
    "UY_Scuti= {\"name\": \"UY_Scuti\", \"mass\": 10, \"temp\": 3365, \"radius\": 1708} \n",
    "NML_Cygni= {\"name\": \"NML_Cygni\", \"mass\": 40, \"temp\": \"?\", \"radius\": 1642}\n",
    "RW_Cephei = {\"name\": \"RW_Cephei\", \"mass\": \"?\", \"temp\": 4015, \"radius\": 1636}\n",
    "WOH_G64 = {\"name\": \"WOH_G64\", \"mass\": 25, \"temp\": 3400, \"radius\": 1540}\n",
    "VY_Cannis_Majoris = {\"name\": \"VY_cannis_Majoris\", \"mass\": 17, \"temp\": 3490, \"radius\": 1420}\n",
    "big_stars = [UY_Scuti, NML_Cygni, RW_Cephei, WOH_G64, VY_Cannis_Majoris]"
   ]
  },
  {
   "cell_type": "code",
   "execution_count": null,
   "metadata": {
    "collapsed": true
   },
   "outputs": [],
   "source": []
  }
 ],
 "metadata": {
  "kernelspec": {
   "display_name": "Python 3",
   "language": "python",
   "name": "python3"
  },
  "language_info": {
   "codemirror_mode": {
    "name": "ipython",
    "version": 3
   },
   "file_extension": ".py",
   "mimetype": "text/x-python",
   "name": "python",
   "nbconvert_exporter": "python",
   "pygments_lexer": "ipython3",
   "version": "3.4.3"
  }
 },
 "nbformat": 4,
 "nbformat_minor": 0
}
