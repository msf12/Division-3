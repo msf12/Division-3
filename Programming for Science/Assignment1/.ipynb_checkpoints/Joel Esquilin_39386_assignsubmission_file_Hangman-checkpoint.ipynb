{
 "cells": [
  {
   "cell_type": "code",
   "execution_count": 2,
   "metadata": {
    "collapsed": false
   },
   "outputs": [
    {
     "name": "stdout",
     "output_type": "stream",
     "text": [
      "['I', 'N', 'C', 'E', 'P', 'T', 'I', 'O', 'N', 'INCEPTION']\n",
      "['__', '__', '__', '__', '__', '__', '__', '__', '__']\n",
      "Make your guess: lol\n",
      "['__', '__', '__', '__', '__', '__', '__', '__', '__']\n",
      "['1/5', 'LOL']\n",
      "Make your guess: swag\n",
      "['__', '__', '__', '__', '__', '__', '__', '__', '__']\n",
      "['2/5', 'LOL', 'SWAG']\n",
      "Make your guess: s\n",
      "['__', '__', '__', '__', '__', '__', '__', '__', '__']\n",
      "['3/5', 'LOL', 'SWAG', 'S']\n",
      "Make your guess: in\n",
      "['__', '__', '__', '__', '__', '__', '__', '__', '__']\n",
      "['4/5', 'LOL', 'SWAG', 'S', 'IN']\n",
      "Make your guess: i\n",
      "['I', '__', '__', '__', '__', '__', 'I', '__', '__']\n",
      "['4/5', 'LOL', 'SWAG', 'S', 'IN']\n",
      "Make your guess: n\n",
      "['I', 'N', '__', '__', '__', '__', 'I', '__', 'N']\n",
      "['4/5', 'LOL', 'SWAG', 'S', 'IN']\n",
      "Make your guess: c\n",
      "['I', 'N', 'C', '__', '__', '__', 'I', '__', 'N']\n",
      "['4/5', 'LOL', 'SWAG', 'S', 'IN']\n",
      "Make your guess: e\n",
      "['I', 'N', 'C', 'E', '__', '__', 'I', '__', 'N']\n",
      "['4/5', 'LOL', 'SWAG', 'S', 'IN']\n",
      "Make your guess: p\n",
      "['I', 'N', 'C', 'E', 'P', '__', 'I', '__', 'N']\n",
      "['4/5', 'LOL', 'SWAG', 'S', 'IN']\n",
      "Make your guess: ti\n",
      "['I', 'N', 'C', 'E', 'P', '__', 'I', '__', 'N']\n",
      "['5/5', 'LOL', 'SWAG', 'S', 'IN', 'TI']\n",
      "Defeat!\n"
     ]
    }
   ],
   "source": [
    "# %load Joel\\ Esquilin_39386_assignsubmission_file_Hangman.py\n",
    "import random\n",
    "\n",
    "listOfWords = [\"INCEPTION\", \"FIGHTCLUB\", \"KILLBILL\", \"SCHINDLERSLIST\", \"TITANIC\"]\n",
    "\n",
    "\"\"\"\n",
    "Get random word from list of words\n",
    "Break word into characters list + whole word\n",
    "Check if input given is equal to letter / word\n",
    "Display symbols printed above the input and change as an input is given\n",
    "and show how many tries the player has (0/5)\n",
    "Function that updates usedLetters and blanks\n",
    "\"\"\"\n",
    "\n",
    "wordPlace = random.randrange(0, len(listOfWords))\n",
    "word = listOfWords[wordPlace]                     \n",
    "wordCharacters = list(word)\n",
    "wordCharacters.append(word)\n",
    "# print(wordCharacters)\n",
    "\n",
    "usedLetters = []\n",
    "usedLetters.append(\"0/5\")\n",
    "tries = 0\n",
    "blank = []\n",
    "\n",
    "for n in range(len(word)):\n",
    "    blank.append(\"__\")\n",
    "print (blank)\n",
    "\n",
    "def UpdateLists(hit, attempts):\n",
    "    if not hit:\n",
    "        attempts += 1\n",
    "    print (blank)\n",
    "    usedLetters[0] = str(attempts) + \"/5\"\n",
    "    print (usedLetters)\n",
    "    return attempts\n",
    "def EndCheck(attempts):\n",
    "    end = False\n",
    "    if (attempts == 5):\n",
    "        print(\"Defeat!\")\n",
    "        end = True\n",
    "    check = \"\"\n",
    "    for letter in blank:\n",
    "        check += letter\n",
    "    if check == wordCharacters[-1]:\n",
    "        print(\"Victory!\")\n",
    "        end = True\n",
    "    return end\n",
    "\n",
    "done = False\n",
    "while not done:\n",
    "    x = (str(input(\"Make your guess: \"))).upper()\n",
    "    i = 0\n",
    "    match = False\n",
    "    for letter in wordCharacters:\n",
    "        if x == wordCharacters[-1]:\n",
    "            match = True\n",
    "            blank = list(word)\n",
    "            break\n",
    "            \n",
    "        if x == letter:\n",
    "           blank[i] = x\n",
    "           match = True\n",
    "        i+= 1\n",
    "    if not match:\n",
    "        usedLetters.append(x)\n",
    "    tries = UpdateLists(match, tries)\n",
    "    done = EndCheck(tries)\n",
    "    \n",
    "        \n",
    "\n",
    "       \n",
    "            \n"
   ]
  },
  {
   "cell_type": "code",
   "execution_count": null,
   "metadata": {
    "collapsed": true
   },
   "outputs": [],
   "source": []
  },
  {
   "cell_type": "code",
   "execution_count": null,
   "metadata": {
    "collapsed": true
   },
   "outputs": [],
   "source": []
  }
 ],
 "metadata": {
  "kernelspec": {
   "display_name": "Python 3",
   "language": "python",
   "name": "python3"
  },
  "language_info": {
   "codemirror_mode": {
    "name": "ipython",
    "version": 3
   },
   "file_extension": ".py",
   "mimetype": "text/x-python",
   "name": "python",
   "nbconvert_exporter": "python",
   "pygments_lexer": "ipython3",
   "version": "3.4.3"
  }
 },
 "nbformat": 4,
 "nbformat_minor": 0
}
