{
 "cells": [
  {
   "cell_type": "code",
   "execution_count": 1,
   "metadata": {
    "collapsed": false
   },
   "outputs": [
    {
     "ename": "SyntaxError",
     "evalue": "invalid syntax (<ipython-input-1-c68c25764aaf>, line 1)",
     "output_type": "error",
     "traceback": [
      "\u001b[1;36m  File \u001b[1;32m\"<ipython-input-1-c68c25764aaf>\"\u001b[1;36m, line \u001b[1;32m1\u001b[0m\n\u001b[1;33m    dict = ['cerebral cortex': 'The outermost layer of the cerebral hemisphere which is composed of gray matter. Cortices are asymmetrical. Both hemispheres are able to analyze sensory data, perform memory functions, learn new information, form thoughts and make decisions', 'left hemisphere': 'Sequential Analysis, systematic, logical interpretation of information. Interpretation and production of symbolic information. language, mathematics, abstraction and reasoning. Memory stored in a language format', 'right hemisphere': 'Holistic Functioning. processing multi sensory data simultaneously to provide holistic picture of ones environment. Visual and spatial skills develop here. Memory is stored in auditory, visual and spatial modalities', 'corpus collosum': 'communication between the right and left hemispheres', 'frontal lobe': 'cognition and memory. personality and emotion traits', 'prefrontal area': 'the ability to concentrate. the ability to ellaborate on thoughts. center for judgement and ambition. personality and emotion traits', 'motor cortex': 'voluntary motion or motor activity', 'brodmans area': 'voluntary motion or motor activity', 'premotor cortex': 'storage of motor patterns and voluntary activities', 'parietal lobe': 'processing of sensory input. Body orientation or proprioception', 'occipital lobe': 'Primary visual reception and association', 'temporal lobe': 'Auditory reception and interpretation, expressed behavior, receptive speech, information retrieval', 'limbic system': 'olfactory path ways, biologic rhythms, hypothalamus', 'Basal Ganglia': 'Subcortical gray matter nuclei. Processing link between thalamus and motor cortex. Initiation and direction of voluntary movement. Balance, Postural reflexes. Automatic movement', 'amygdala': 'neural centers in the limbic system linked to emotions, especially fear', 'hippocampus': 'a structure in the limbic system associated with memory formation', 'thalamus': 'relays messages from lower brain centers to cerebral cortex', 'hypothalamus': 'controls maintenance functions such as eating. helps govern endocrine system. linked to emotion and reward motivation', 'pituitary gland': 'master endocrine gland', 'reticular formation': 'control center for arousal', 'medulla': 'controls heartbeat and breathing', 'spinal cord': 'pathway for neural fibers traveling to and from the brain. controls simple relfexes', 'cerebellum', 'coordinates voluntary movement and balance', 'pons': 'relays information between the cerebrum and the cerebellum, controls arousal and regulates respiration’]\u001b[0m\n\u001b[1;37m                             ^\u001b[0m\n\u001b[1;31mSyntaxError\u001b[0m\u001b[1;31m:\u001b[0m invalid syntax\n"
     ]
    }
   ],
   "source": [
    "   dict = ['cerebral cortex': 'The outermost layer of the cerebral hemisphere which is composed of gray matter. Cortices are asymmetrical. Both hemispheres are able to analyze sensory data, perform memory functions, learn new information, form thoughts and make decisions', 'left hemisphere': 'Sequential Analysis, systematic, logical interpretation of information. Interpretation and production of symbolic information. language, mathematics, abstraction and reasoning. Memory stored in a language format', 'right hemisphere': 'Holistic Functioning. processing multi sensory data simultaneously to provide holistic picture of ones environment. Visual and spatial skills develop here. Memory is stored in auditory, visual and spatial modalities', 'corpus collosum': 'communication between the right and left hemispheres', 'frontal lobe': 'cognition and memory. personality and emotion traits', 'prefrontal area': 'the ability to concentrate. the ability to ellaborate on thoughts. center for judgement and ambition. personality and emotion traits', 'motor cortex': 'voluntary motion or motor activity', 'brodmans area': 'voluntary motion or motor activity', 'premotor cortex': 'storage of motor patterns and voluntary activities', 'parietal lobe': 'processing of sensory input. Body orientation or proprioception', 'occipital lobe': 'Primary visual reception and association', 'temporal lobe': 'Auditory reception and interpretation, expressed behavior, receptive speech, information retrieval', 'limbic system': 'olfactory path ways, biologic rhythms, hypothalamus', 'Basal Ganglia': 'Subcortical gray matter nuclei. Processing link between thalamus and motor cortex. Initiation and direction of voluntary movement. Balance, Postural reflexes. Automatic movement', 'amygdala': 'neural centers in the limbic system linked to emotions, especially fear', 'hippocampus': 'a structure in the limbic system associated with memory formation', 'thalamus': 'relays messages from lower brain centers to cerebral cortex', 'hypothalamus': 'controls maintenance functions such as eating. helps govern endocrine system. linked to emotion and reward motivation', 'pituitary gland': 'master endocrine gland', 'reticular formation': 'control center for arousal', 'medulla': 'controls heartbeat and breathing', 'spinal cord': 'pathway for neural fibers traveling to and from the brain. controls simple relfexes', 'cerebellum', 'coordinates voluntary movement and balance', 'pons': 'relays information between the cerebrum and the cerebellum, controls arousal and regulates respiration’]"
   ]
  },
  {
   "cell_type": "code",
   "execution_count": 2,
   "metadata": {
    "collapsed": false
   },
   "outputs": [
    {
     "ename": "SyntaxError",
     "evalue": "invalid syntax (<ipython-input-2-d1f6cc2d9e87>, line 1)",
     "output_type": "error",
     "traceback": [
      "\u001b[1;36m  File \u001b[1;32m\"<ipython-input-2-d1f6cc2d9e87>\"\u001b[1;36m, line \u001b[1;32m1\u001b[0m\n\u001b[1;33m    dict = {'cerebral cortex': 'The outermost layer of the cerebral hemisphere which is composed of gray matter. Cortices are asymmetrical. Both hemispheres are able to analyze sensory data, perform memory functions, learn new information, form thoughts and make decisions', 'left hemisphere': 'Sequential Analysis, systematic, logical interpretation of information. Interpretation and production of symbolic information. language, mathematics, abstraction and reasoning. Memory stored in a language format', 'right hemisphere': 'Holistic Functioning. processing multi sensory data simultaneously to provide holistic picture of ones environment. Visual and spatial skills develop here. Memory is stored in auditory, visual and spatial modalities', 'corpus collosum': 'communication between the right and left hemispheres', 'frontal lobe': 'cognition and memory. personality and emotion traits', 'prefrontal area': 'the ability to concentrate. the ability to ellaborate on thoughts. center for judgement and ambition. personality and emotion traits', 'motor cortex': 'voluntary motion or motor activity', 'brodmans area': 'voluntary motion or motor activity', 'premotor cortex': 'storage of motor patterns and voluntary activities', 'parietal lobe': 'processing of sensory input. Body orientation or proprioception', 'occipital lobe': 'Primary visual reception and association', 'temporal lobe': 'Auditory reception and interpretation, expressed behavior, receptive speech, information retrieval', 'limbic system': 'olfactory path ways, biologic rhythms, hypothalamus', 'Basal Ganglia': 'Subcortical gray matter nuclei. Processing link between thalamus and motor cortex. Initiation and direction of voluntary movement. Balance, Postural reflexes. Automatic movement', 'amygdala': 'neural centers in the limbic system linked to emotions, especially fear', 'hippocampus': 'a structure in the limbic system associated with memory formation', 'thalamus': 'relays messages from lower brain centers to cerebral cortex', 'hypothalamus': 'controls maintenance functions such as eating. helps govern endocrine system. linked to emotion and reward motivation', 'pituitary gland': 'master endocrine gland', 'reticular formation': 'control center for arousal', 'medulla': 'controls heartbeat and breathing', 'spinal cord': 'pathway for neural fibers traveling to and from the brain. controls simple relfexes', 'cerebellum', 'coordinates voluntary movement and balance', 'pons': 'relays information between the cerebrum and the cerebellum, controls arousal and regulates respiration’};\u001b[0m\n\u001b[1;37m                                                                                                                                                                                                                                                                                                                                                                                                                                                                                                                                                                                                                                                                                                                                                                                                                                                                                                                                                                                                                                                                                                                                                                                                                                                                                                                                                                                                                                                                                                                                                                                                                                                                                                                                                                                                                                                                                                                                                                                                                                                                                                                                                                                                                                                                                                                                                                                                                                                                                                         ^\u001b[0m\n\u001b[1;31mSyntaxError\u001b[0m\u001b[1;31m:\u001b[0m invalid syntax\n"
     ]
    }
   ],
   "source": [
    "   dict = {'cerebral cortex': 'The outermost layer of the cerebral hemisphere which is composed of gray matter. Cortices are asymmetrical. Both hemispheres are able to analyze sensory data, perform memory functions, learn new information, form thoughts and make decisions', 'left hemisphere': 'Sequential Analysis, systematic, logical interpretation of information. Interpretation and production of symbolic information. language, mathematics, abstraction and reasoning. Memory stored in a language format', 'right hemisphere': 'Holistic Functioning. processing multi sensory data simultaneously to provide holistic picture of ones environment. Visual and spatial skills develop here. Memory is stored in auditory, visual and spatial modalities', 'corpus collosum': 'communication between the right and left hemispheres', 'frontal lobe': 'cognition and memory. personality and emotion traits', 'prefrontal area': 'the ability to concentrate. the ability to ellaborate on thoughts. center for judgement and ambition. personality and emotion traits', 'motor cortex': 'voluntary motion or motor activity', 'brodmans area': 'voluntary motion or motor activity', 'premotor cortex': 'storage of motor patterns and voluntary activities', 'parietal lobe': 'processing of sensory input. Body orientation or proprioception', 'occipital lobe': 'Primary visual reception and association', 'temporal lobe': 'Auditory reception and interpretation, expressed behavior, receptive speech, information retrieval', 'limbic system': 'olfactory path ways, biologic rhythms, hypothalamus', 'Basal Ganglia': 'Subcortical gray matter nuclei. Processing link between thalamus and motor cortex. Initiation and direction of voluntary movement. Balance, Postural reflexes. Automatic movement', 'amygdala': 'neural centers in the limbic system linked to emotions, especially fear', 'hippocampus': 'a structure in the limbic system associated with memory formation', 'thalamus': 'relays messages from lower brain centers to cerebral cortex', 'hypothalamus': 'controls maintenance functions such as eating. helps govern endocrine system. linked to emotion and reward motivation', 'pituitary gland': 'master endocrine gland', 'reticular formation': 'control center for arousal', 'medulla': 'controls heartbeat and breathing', 'spinal cord': 'pathway for neural fibers traveling to and from the brain. controls simple relfexes', 'cerebellum', 'coordinates voluntary movement and balance', 'pons': 'relays information between the cerebrum and the cerebellum, controls arousal and regulates respiration’}\n"
   ]
  },
  {
   "cell_type": "code",
   "execution_count": 10,
   "metadata": {
    "collapsed": false
   },
   "outputs": [
    {
     "ename": "SyntaxError",
     "evalue": "EOL while scanning string literal (<ipython-input-10-a8413d3895fb>, line 24)",
     "output_type": "error",
     "traceback": [
      "\u001b[1;36m  File \u001b[1;32m\"<ipython-input-10-a8413d3895fb>\"\u001b[1;36m, line \u001b[1;32m24\u001b[0m\n\u001b[1;33m    'pons': 'relays information between the cerebrum and the cerebellum, controls arousal and regulates respiration’,\u001b[0m\n\u001b[1;37m                                                                                                                     ^\u001b[0m\n\u001b[1;31mSyntaxError\u001b[0m\u001b[1;31m:\u001b[0m EOL while scanning string literal\n"
     ]
    }
   ],
   "source": [
    "  dict = {'cerebral cortex': 'The outermost layer of the cerebral hemisphere which is composed of gray matter. Cortices are asymmetrical. Both hemispheres are able to analyze sensory data, perform memory functions, learn new information, form thoughts and make decisions', \n",
    "          'left hemisphere': 'Sequential Analysis, systematic, logical interpretation of information. Interpretation and production of symbolic information. language, mathematics, abstraction and reasoning. Memory stored in a language format', \n",
    "          'right hemisphere': 'Holistic Functioning. processing multi sensory data simultaneously to provide holistic picture of ones environment. Visual and spatial skills develop here. Memory is stored in auditory, visual and spatial modalities', \n",
    "          'corpus collosum': 'communication between the right and left hemispheres', \n",
    "          'frontal lobe': 'cognition and memory. personality and emotion traits', \n",
    "          'prefrontal area': 'the ability to concentrate. the ability to ellaborate on thoughts. center for judgement and ambition. personality and emotion traits', \n",
    "          'motor cortex': 'voluntary motion or motor activity', \n",
    "          'brodmans area': 'voluntary motion or motor activity', \n",
    "          'premotor cortex': 'storage of motor patterns and voluntary activities', \n",
    "          'parietal lobe': 'processing of sensory input. Body orientation or proprioception', \n",
    "          'occipital lobe': 'Primary visual reception and association', \n",
    "          'temporal lobe': 'Auditory reception and interpretation, expressed behavior, receptive speech, information retrieval', \n",
    "          'limbic system': 'olfactory path ways, biologic rhythms, hypothalamus', \n",
    "          'Basal Ganglia': 'Subcortical gray matter nuclei. Processing link between thalamus and motor cortex. Initiation and direction of voluntary movement. Balance, Postural reflexes. Automatic movement', \n",
    "          'amygdala': 'neural centers in the limbic system linked to emotions, especially fear', \n",
    "          'hippocampus': 'a structure in the limbic system associated with memory formation', \n",
    "          'thalamus': 'relays messages from lower brain centers to cerebral cortex', \n",
    "          'hypothalamus': 'controls maintenance functions such as eating. helps govern endocrine system. linked to emotion and reward motivation', \n",
    "          'pituitary gland': 'master endocrine gland', \n",
    "          'reticular formation': 'control center for arousal', \n",
    "          'medulla': 'controls heartbeat and breathing', \n",
    "          'spinal cord': 'pathway for neural fibers traveling to and from the brain. controls simple relfexes', \n",
    "          'cerebellum': 'coordinates voluntary movement and balance', \n",
    "          'pons': 'relays information between the cerebrum and the cerebellum, controls arousal and regulates respiration',\n",
    "         } "
   ]
  },
  {
   "cell_type": "code",
   "execution_count": 11,
   "metadata": {
    "collapsed": true
   },
   "outputs": [],
   "source": [
    "  dict = {'cerebral cortex': 'The outermost layer of the cerebral hemisphere which is composed of gray matter. Cortices are asymmetrical. Both hemispheres are able to analyze sensory data, perform memory functions, learn new information, form thoughts and make decisions', \n",
    "          'left hemisphere': 'Sequential Analysis, systematic, logical interpretation of information. Interpretation and production of symbolic information. language, mathematics, abstraction and reasoning. Memory stored in a language format', \n",
    "          'right hemisphere': 'Holistic Functioning. processing multi sensory data simultaneously to provide holistic picture of ones environment. Visual and spatial skills develop here. Memory is stored in auditory, visual and spatial modalities', \n",
    "          'corpus collosum': 'communication between the right and left hemispheres', \n",
    "          'frontal lobe': 'cognition and memory. personality and emotion traits', \n",
    "          'prefrontal area': 'the ability to concentrate. the ability to ellaborate on thoughts. center for judgement and ambition. personality and emotion traits', \n",
    "          'motor cortex': 'voluntary motion or motor activity', \n",
    "          'brodmans area': 'voluntary motion or motor activity', \n",
    "          'premotor cortex': 'storage of motor patterns and voluntary activities', \n",
    "          'parietal lobe': 'processing of sensory input. Body orientation or proprioception', \n",
    "          'occipital lobe': 'Primary visual reception and association', \n",
    "          'temporal lobe': 'Auditory reception and interpretation, expressed behavior, receptive speech, information retrieval', \n",
    "          'limbic system': 'olfactory path ways, biologic rhythms, hypothalamus', \n",
    "          'Basal Ganglia': 'Subcortical gray matter nuclei. Processing link between thalamus and motor cortex. Initiation and direction of voluntary movement. Balance, Postural reflexes. Automatic movement', \n",
    "          'amygdala': 'neural centers in the limbic system linked to emotions, especially fear', \n",
    "          'hippocampus': 'a structure in the limbic system associated with memory formation', \n",
    "          'thalamus': 'relays messages from lower brain centers to cerebral cortex', \n",
    "          'hypothalamus': 'controls maintenance functions such as eating. helps govern endocrine system. linked to emotion and reward motivation', \n",
    "          'pituitary gland': 'master endocrine gland', \n",
    "          'reticular formation': 'control center for arousal', \n",
    "          'medulla': 'controls heartbeat and breathing', \n",
    "          'spinal cord': 'pathway for neural fibers traveling to and from the brain. controls simple relfexes', \n",
    "          'cerebellum': 'coordinates voluntary movement and balance', \n",
    "          'pons': 'relays information between the cerebrum and the cerebellum, controls arousal and regulates respiration',\n",
    "         } "
   ]
  },
  {
   "cell_type": "code",
   "execution_count": 12,
   "metadata": {
    "collapsed": false
   },
   "outputs": [
    {
     "data": {
      "text/plain": [
       "'Primary visual reception and association'"
      ]
     },
     "execution_count": 12,
     "metadata": {},
     "output_type": "execute_result"
    }
   ],
   "source": [
    "dict['occipital lobe']"
   ]
  },
  {
   "cell_type": "code",
   "execution_count": 13,
   "metadata": {
    "collapsed": false
   },
   "outputs": [
    {
     "ename": "KeyError",
     "evalue": "'basal ganglia'",
     "output_type": "error",
     "traceback": [
      "\u001b[1;31m---------------------------------------------------------------------------\u001b[0m",
      "\u001b[1;31mKeyError\u001b[0m                                  Traceback (most recent call last)",
      "\u001b[1;32m<ipython-input-13-338a80e30a7f>\u001b[0m in \u001b[0;36m<module>\u001b[1;34m()\u001b[0m\n\u001b[1;32m----> 1\u001b[1;33m \u001b[0mdict\u001b[0m\u001b[1;33m[\u001b[0m\u001b[1;34m'basal ganglia'\u001b[0m\u001b[1;33m]\u001b[0m\u001b[1;33m\u001b[0m\u001b[0m\n\u001b[0m",
      "\u001b[1;31mKeyError\u001b[0m: 'basal ganglia'"
     ]
    }
   ],
   "source": [
    "dict['basal ganglia']"
   ]
  },
  {
   "cell_type": "code",
   "execution_count": 14,
   "metadata": {
    "collapsed": false
   },
   "outputs": [
    {
     "data": {
      "text/plain": [
       "'Subcortical gray matter nuclei. Processing link between thalamus and motor cortex. Initiation and direction of voluntary movement. Balance, Postural reflexes. Automatic movement'"
      ]
     },
     "execution_count": 14,
     "metadata": {},
     "output_type": "execute_result"
    }
   ],
   "source": [
    "dict['Basal Ganglia']"
   ]
  },
  {
   "cell_type": "code",
   "execution_count": 15,
   "metadata": {
    "collapsed": true
   },
   "outputs": [],
   "source": [
    "brain = dict"
   ]
  },
  {
   "cell_type": "code",
   "execution_count": 16,
   "metadata": {
    "collapsed": false
   },
   "outputs": [
    {
     "data": {
      "text/plain": [
       "'relays information between the cerebrum and the cerebellum, controls arousal and regulates respiration'"
      ]
     },
     "execution_count": 16,
     "metadata": {},
     "output_type": "execute_result"
    }
   ],
   "source": [
    "brain['pons']"
   ]
  },
  {
   "cell_type": "code",
   "execution_count": 20,
   "metadata": {
    "collapsed": false
   },
   "outputs": [
    {
     "data": {
      "text/plain": [
       "{'Basal Ganglia': 'Subcortical gray matter nuclei. Processing link between thalamus and motor cortex. Initiation and direction of voluntary movement. Balance, Postural reflexes. Automatic movement',\n",
       " 'amygdala': 'neural centers in the limbic system linked to emotions, especially fear',\n",
       " 'brodmans area': 'voluntary motion or motor activity',\n",
       " 'cerebellum': 'coordinates voluntary movement and balance',\n",
       " 'cerebral cortex': 'The outermost layer of the cerebral hemisphere which is composed of gray matter. Cortices are asymmetrical. Both hemispheres are able to analyze sensory data, perform memory functions, learn new information, form thoughts and make decisions',\n",
       " 'corpus collosum': 'communication between the right and left hemispheres',\n",
       " 'frontal lobe': 'cognition and memory. personality and emotion traits',\n",
       " 'hippocampus': 'a structure in the limbic system associated with memory formation',\n",
       " 'hypothalamus': 'controls maintenance functions such as eating. helps govern endocrine system. linked to emotion and reward motivation',\n",
       " 'left hemisphere': 'Sequential Analysis, systematic, logical interpretation of information. Interpretation and production of symbolic information. language, mathematics, abstraction and reasoning. Memory stored in a language format',\n",
       " 'limbic system': 'olfactory path ways, biologic rhythms, hypothalamus',\n",
       " 'medulla': 'controls heartbeat and breathing',\n",
       " 'motor cortex': 'voluntary motion or motor activity',\n",
       " 'occipital lobe': 'Primary visual reception and association',\n",
       " 'parietal lobe': 'processing of sensory input. Body orientation or proprioception',\n",
       " 'pituitary gland': 'master endocrine gland',\n",
       " 'pons': 'relays information between the cerebrum and the cerebellum, controls arousal and regulates respiration',\n",
       " 'prefrontal area': 'the ability to concentrate. the ability to ellaborate on thoughts. center for judgement and ambition. personality and emotion traits',\n",
       " 'premotor cortex': 'storage of motor patterns and voluntary activities',\n",
       " 'reticular formation': 'control center for arousal',\n",
       " 'right hemisphere': 'Holistic Functioning. processing multi sensory data simultaneously to provide holistic picture of ones environment. Visual and spatial skills develop here. Memory is stored in auditory, visual and spatial modalities',\n",
       " 'spinal cord': 'pathway for neural fibers traveling to and from the brain. controls simple relfexes',\n",
       " 'temporal lobe': 'Auditory reception and interpretation, expressed behavior, receptive speech, information retrieval',\n",
       " 'thalamus': 'relays messages from lower brain centers to cerebral cortex'}"
      ]
     },
     "execution_count": 20,
     "metadata": {},
     "output_type": "execute_result"
    }
   ],
   "source": [
    "brain"
   ]
  },
  {
   "cell_type": "code",
   "execution_count": 21,
   "metadata": {
    "collapsed": false
   },
   "outputs": [
    {
     "data": {
      "text/plain": [
       "{'Basal Ganglia': 'Subcortical gray matter nuclei. Processing link between thalamus and motor cortex. Initiation and direction of voluntary movement. Balance, Postural reflexes. Automatic movement',\n",
       " 'amygdala': 'neural centers in the limbic system linked to emotions, especially fear',\n",
       " 'brodmans area': 'voluntary motion or motor activity',\n",
       " 'cerebellum': 'coordinates voluntary movement and balance',\n",
       " 'cerebral cortex': 'The outermost layer of the cerebral hemisphere which is composed of gray matter. Cortices are asymmetrical. Both hemispheres are able to analyze sensory data, perform memory functions, learn new information, form thoughts and make decisions',\n",
       " 'corpus collosum': 'communication between the right and left hemispheres',\n",
       " 'frontal lobe': 'cognition and memory. personality and emotion traits',\n",
       " 'hippocampus': 'a structure in the limbic system associated with memory formation',\n",
       " 'hypothalamus': 'controls maintenance functions such as eating. helps govern endocrine system. linked to emotion and reward motivation',\n",
       " 'left hemisphere': 'Sequential Analysis, systematic, logical interpretation of information. Interpretation and production of symbolic information. language, mathematics, abstraction and reasoning. Memory stored in a language format',\n",
       " 'limbic system': 'olfactory path ways, biologic rhythms, hypothalamus',\n",
       " 'medulla': 'controls heartbeat and breathing',\n",
       " 'motor cortex': 'voluntary motion or motor activity',\n",
       " 'occipital lobe': 'Primary visual reception and association',\n",
       " 'parietal lobe': 'processing of sensory input. Body orientation or proprioception',\n",
       " 'pituitary gland': 'master endocrine gland',\n",
       " 'pons': 'relays information between the cerebrum and the cerebellum, controls arousal and regulates respiration',\n",
       " 'prefrontal area': 'the ability to concentrate. the ability to ellaborate on thoughts. center for judgement and ambition. personality and emotion traits',\n",
       " 'premotor cortex': 'storage of motor patterns and voluntary activities',\n",
       " 'reticular formation': 'control center for arousal',\n",
       " 'right hemisphere': 'Holistic Functioning. processing multi sensory data simultaneously to provide holistic picture of ones environment. Visual and spatial skills develop here. Memory is stored in auditory, visual and spatial modalities',\n",
       " 'spinal cord': 'pathway for neural fibers traveling to and from the brain. controls simple relfexes',\n",
       " 'temporal lobe': 'Auditory reception and interpretation, expressed behavior, receptive speech, information retrieval',\n",
       " 'thalamus': 'relays messages from lower brain centers to cerebral cortex'}"
      ]
     },
     "execution_count": 21,
     "metadata": {},
     "output_type": "execute_result"
    }
   ],
   "source": [
    "brain"
   ]
  },
  {
   "cell_type": "code",
   "execution_count": 24,
   "metadata": {
    "collapsed": false
   },
   "outputs": [
    {
     "data": {
      "text/plain": [
       "'Auditory reception and interpretation, expressed behavior, receptive speech, information retrieval'"
      ]
     },
     "execution_count": 24,
     "metadata": {},
     "output_type": "execute_result"
    }
   ],
   "source": [
    "brain['temporal lobe']"
   ]
  },
  {
   "cell_type": "code",
   "execution_count": null,
   "metadata": {
    "collapsed": true
   },
   "outputs": [],
   "source": []
  },
  {
   "cell_type": "raw",
   "metadata": {},
   "source": []
  }
 ],
 "metadata": {
  "kernelspec": {
   "display_name": "Python 3",
   "language": "python",
   "name": "python3"
  },
  "language_info": {
   "codemirror_mode": {
    "name": "ipython",
    "version": 3
   },
   "file_extension": ".py",
   "mimetype": "text/x-python",
   "name": "python",
   "nbconvert_exporter": "python",
   "pygments_lexer": "ipython3",
   "version": "3.4.3"
  }
 },
 "nbformat": 4,
 "nbformat_minor": 0
}
